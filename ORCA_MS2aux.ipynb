{
 "cells": [
  {
   "cell_type": "markdown",
   "metadata": {},
   "source": [
    "# WELCOME TO THE ORCA NOTEBOOK - MS2 Auxilary\n",
    "\n",
    "Pipeline for the **O**bjective **R**elational **C**omparative **A**nalyses of mass spectral data, along with other data sources. All you need is a directory of mzML files to get started!\n",
    "\n",
    "To run cells of code, select cell and then press **Shift + Enter**. The first cell loads-in python modules necessary for the rest of the code to function\n",
    "\n",
    "In some of the cells below, the user will need to input information, such as setting paths, setting parameters, etc. In these cases, the user will see a cell with variables to be set at the top, followed by a line of '###', below which the rest of the code can be seen. Please set all applicable variables above the '###' line. Tinkering with the code below the '###' line is highly encouraged, as that is precisely why we chose to make the code available as a Jupyter Notebook, however it could result in a 'breaking' of ORCA. If that appears to be the case, simply clone again from GitHub to get back to working code.\n",
    "\n",
    "\n",
    "This notebook was created several years after ORCA, in order to dig deeper into MS2 fragmentation patterns. Initial analyses using GNPS Classic Molecular Networking (https://gnps.ucsd.edu/ProteoSAFe/static/gnps-splash.jsp) revealed a cluster of MS2 nodes that were networked together, suggesting that they were analogs. In an effort to understand how these nodes might be related, we put together the below code."
   ]
  },
  {
   "cell_type": "code",
   "execution_count": null,
   "metadata": {},
   "outputs": [],
   "source": [
    "import pandas as pd\n",
    "import numpy as np\n",
    "from pyteomics import mzml, auxiliary\n",
    "import glob\n",
    "import matplotlib \n",
    "from matplotlib import pyplot as plt\n",
    "from scipy.cluster.hierarchy import dendrogram, linkage, cophenet, set_link_color_palette, fcluster\n",
    "from collections import Counter\n",
    "\n",
    "%matplotlib inline"
   ]
  },
  {
   "cell_type": "markdown",
   "metadata": {},
   "source": [
    "**path_sample_directory**: Path to the directory that contains sample files to be loaded-in. Note: these files must be in mzML format, and NOT mzXML."
   ]
  },
  {
   "cell_type": "code",
   "execution_count": null,
   "metadata": {},
   "outputs": [],
   "source": [
    "path_sample_directory = './CL001_ms'\n",
    "\n",
    "################################################################################################################\n",
    "\n",
    "fns = glob.glob(path_sample_directory + '/*ML')\n",
    "fns.sort()\n",
    "fns"
   ]
  },
  {
   "cell_type": "markdown",
   "metadata": {},
   "source": [
    "Running the cell below pulls MS2 scans from all sample mzML files in the designated sample directory, and then arranges them into a dataframe so that each peak in each scan is set into a row. In order to facilitate upcoming aggregate analyses, each peak is also assigned a rounded m/z. The order of magnitude to which peak values should be rounded can be set with the **bin_OOM** variable. For example, if a peak has a recorded value of 100.222, setting **bin_OOM** to 0 will return 100, setting to -1 will return 100.2, setting to -2 will return 100.22, etc. \n",
    "\n",
    "The resultant table will have 8 columns:\n",
    "\n",
    "file: The name of the file from which the peak originates\n",
    "\n",
    "scan: The number of the scan from which the peak originates\n",
    "\n",
    "pmz: The precursor m/z for the scan from which the peak originates\n",
    "\n",
    "mz: The m/z of the peak\n",
    "\n",
    "rt: The retention time for the scan from which the peak originates\n",
    "\n",
    "inten: The intensity of the peak\n",
    "\n",
    "pmz_round: The precursor m/z for the scan from which the peak originates, rounded via the bin_OOM parameter\n",
    "\n",
    "mz_round: The m/z of the peak, rounded via the bin_OOM parameter\n"
   ]
  },
  {
   "cell_type": "code",
   "execution_count": null,
   "metadata": {},
   "outputs": [],
   "source": [
    "bin_OOM = 0\n",
    "\n",
    "#######################################################################################################################\n",
    "\n",
    "pmz = []\n",
    "rt = []\n",
    "mz = []\n",
    "inten = []\n",
    "scan = []\n",
    "file = []\n",
    "for file_name in fns:\n",
    "    print(file_name)\n",
    "    with mzml.read(file_name) as reader:\n",
    "        for spectrum in reader:\n",
    "            if spectrum.get('ms level') == 2:\n",
    "                pmz.extend([spectrum.get('precursorList').get('precursor')[0].get('isolationWindow').get('isolation window target m/z')] * len(spectrum.get('m/z array')))\n",
    "                rt.extend([spectrum.get('scanList').get('scan')[0].get('scan start time')] * len(spectrum.get('m/z array')))\n",
    "                mz.extend(spectrum.get('m/z array'))\n",
    "                inten.extend(spectrum.get('intensity array'))\n",
    "                scan.extend([spectrum.get('id').split('scan=')[1]] * len(spectrum.get('m/z array')))\n",
    "                file.extend([file_name] * len(spectrum.get('m/z array')))\n",
    "\n",
    "data = pd.DataFrame([file,scan,pmz,mz,rt,inten]).T\n",
    "data.columns = ['file','scan','pmz','mz','rt','inten']\n",
    "data[\"pmz\"] = pd.to_numeric(data[\"pmz\"])\n",
    "data[\"mz\"] = pd.to_numeric(data[\"mz\"])\n",
    "data[\"inten\"] = pd.to_numeric(data[\"inten\"])\n",
    "\n",
    "data['pmz_round'] = data['pmz'].round(-bin_OOM)\n",
    "data['mz_round'] = data['mz'].round(-bin_OOM)\n",
    "data"
   ]
  },
  {
   "cell_type": "markdown",
   "metadata": {},
   "source": [
    "### Querying the MS2 data\n",
    "The number of ways someone might want to query their MS2 data is endless, so we have included just a couple of examples below. If you are having trouble building off what is there, check out the documentation for the Pandas 'query' function: https://pandas.pydata.org/pandas-docs/stable/reference/api/pandas.DataFrame.query.html"
   ]
  },
  {
   "cell_type": "code",
   "execution_count": null,
   "metadata": {},
   "outputs": [],
   "source": [
    "# Only show rows where pmz_round is equal to 457\n",
    "data.query('pmz_round == 457')\n"
   ]
  },
  {
   "cell_type": "code",
   "execution_count": null,
   "metadata": {},
   "outputs": [],
   "source": [
    "# Only show rows where pmz_round is equal to 465, and mz is between 307 and 309\n",
    "data.query('pmz_round == 465 and mz > 307 and mz < 309')\n"
   ]
  },
  {
   "cell_type": "markdown",
   "metadata": {},
   "source": [
    "### Filtering the MS2 data, based on a fragment peak of interest\n",
    "This code will allow for the generation of a list of precursor mzs whose scans include a particular fragment peak of interest.\n",
    "\n",
    "frag_peak_OI: Input the rounded fragment peak mz that you are interested in."
   ]
  },
  {
   "cell_type": "code",
   "execution_count": null,
   "metadata": {},
   "outputs": [],
   "source": [
    "frag_peak_OI = 168\n",
    "\n",
    "###########################################################################################\n",
    "\n",
    "pmzs = list(data[data['mz_round'] == frag_peak_OI]['pmz_round'].unique())\n",
    "pmzs.sort()\n",
    "pmzs"
   ]
  },
  {
   "cell_type": "markdown",
   "metadata": {},
   "source": [
    "Once it is known which precuror m/z's include a particular fragment peak of interest, those precursor m/z's and their fragmentation patterns can be further investigated..."
   ]
  },
  {
   "cell_type": "markdown",
   "metadata": {},
   "source": [
    "### Cluster fragmentation patterns\n",
    "Designate a rounded precursor m/z of interest, as well as a cutoff for delineating clusters, and then run the code below to peform hierarchical clustering on all scans with that particular precusor m/z. The fragmentation pattern in each applicable scan is compared to all others using cosine distance, and then clustered."
   ]
  },
  {
   "cell_type": "code",
   "execution_count": null,
   "metadata": {},
   "outputs": [],
   "source": [
    "peak_of_interest = 457\n",
    "cutoff = 0.15\n",
    "\n",
    "###########################################\n",
    "peak = pd.pivot_table(data.query('pmz_round == @peak_of_interest'),index=['file','scan'],columns='mz_round',values='inten',aggfunc='max', fill_value=0)\n",
    "peak.drop(peak.columns[peak.columns >= peak_of_interest],axis=1,inplace=True)\n",
    "\n",
    "#Clustering linkages followed by dendrogram construction\n",
    "matplotlib.rcParams['lines.linewidth'] = 3\n",
    "link = linkage(peak, 'average', metric = 'cosine')\n",
    "plt.figure(figsize=(15,8))\n",
    "plt.title('Hierarchical Clustering of m/z '+str(peak_of_interest)+' MS2 spectra', fontsize=20)\n",
    "plt.ylabel('Cosine Distance', fontsize=18)\n",
    "plt.yticks(fontsize=14)\n",
    "dendrogram(\n",
    "    link,\n",
    "    color_threshold=cutoff,\n",
    "    above_threshold_color='k',\n",
    "    )\n",
    "plt.show()\n"
   ]
  },
  {
   "cell_type": "markdown",
   "metadata": {
    "scrolled": false
   },
   "source": [
    "Run the cell below to get details on how many scans are in each cluster generated above. The result will be a list of pairs of numbers (called tuples). The first number in each pair is the cluster number, while the second number indicates how many scans are included in that cluster.\n"
   ]
  },
  {
   "cell_type": "code",
   "execution_count": null,
   "metadata": {},
   "outputs": [],
   "source": [
    "C = fcluster(link, cutoff, criterion=\"distance\")\n",
    "Counter(C).most_common()"
   ]
  },
  {
   "cell_type": "markdown",
   "metadata": {},
   "source": [
    "Based on the outputs above, one cluster may have caught your attention. Input the cluster number below and then run the cell in order to generate a consensus fragmentation pattern representing the scans in that cluster."
   ]
  },
  {
   "cell_type": "code",
   "execution_count": null,
   "metadata": {
    "scrolled": false
   },
   "outputs": [],
   "source": [
    "cluster = 1\n",
    "x_min = 160\n",
    "x_max = 460\n",
    "\n",
    "##################################################################################################################\n",
    "\n",
    "peak_plot = peak[C == cluster].T/peak[C == cluster].T.max()\n",
    "\n",
    "index_expand = []\n",
    "index_drop = []\n",
    "for x in range(int(peak_plot.index.min()),int(peak_plot.index.max())+1):\n",
    "    ints = [int(i) for i in peak_plot.index]\n",
    "    if x not in ints:\n",
    "        index_expand.append(float(x))\n",
    "    if x < x_min:\n",
    "        index_drop.append(float(x))\n",
    "    if x > x_max:\n",
    "        index_drop.append(float(x))\n",
    "        \n",
    "for idx in index_expand:\n",
    "    peak_plot = peak_plot.append(pd.Series(name=idx))\n",
    "    \n",
    "peak_plot.sort_index(inplace=True)\n",
    "peak_plot.fillna(0, inplace=True)\n",
    "peak_plot.drop(index_drop, axis=0, inplace=True)\n",
    "\n",
    "xticklab = []\n",
    "for x in pd.Series(peak_plot.index):\n",
    "    if x in list(peak_plot.T.median().T[peak_plot.T.median() > .01].index):\n",
    "        xticklab.append(str(int(x)))\n",
    "    else:\n",
    "        xticklab.extend(' ')\n",
    "\n",
    "plt.figure(figsize=(15,8))\n",
    "ax = peak_plot.T.median().plot(kind='bar', color='k', width=1.1)\n",
    "ax.tick_params(axis='y', which='major', labelsize=14)\n",
    "ax.set_xticklabels(xticklab, rotation=90, fontsize=14)\n",
    "ax.set_title('Consensus MS2 spectrum for cluster '+str(cluster)+' of m/z '+str(peak_of_interest)+', based on '+str(len(peak_plot.T))+' scans', fontsize=20)"
   ]
  },
  {
   "cell_type": "markdown",
   "metadata": {},
   "source": [
    "In the consensus spectrum above, only peaks that are greater than 0.01 in relatvie intensity are labelled. For a full accounting of the peaks in the consensus spectrum, run the below cell."
   ]
  },
  {
   "cell_type": "code",
   "execution_count": null,
   "metadata": {},
   "outputs": [],
   "source": [
    "peaks = list(peak_plot.T.median().T[peak_plot.T.median() > .00001].index)\n",
    "peaks"
   ]
  },
  {
   "cell_type": "markdown",
   "metadata": {},
   "source": [
    "In some cases, it may be useful to calculate the ratios of two fragment peaks across all of the scans in a cluster. This can be done in the cell below."
   ]
  },
  {
   "cell_type": "code",
   "execution_count": null,
   "metadata": {},
   "outputs": [],
   "source": [
    "peak_1 = 321\n",
    "peak_2 = 323\n",
    "\n",
    "##################################################################################################################\n",
    "\n",
    "ratios = peak_plot.T[peak_1]/peak_plot.T[peak_2]\n",
    "ratios"
   ]
  }
 ],
 "metadata": {
  "kernelspec": {
   "display_name": "Python 3",
   "language": "python",
   "name": "python3"
  },
  "language_info": {
   "codemirror_mode": {
    "name": "ipython",
    "version": 3
   },
   "file_extension": ".py",
   "mimetype": "text/x-python",
   "name": "python",
   "nbconvert_exporter": "python",
   "pygments_lexer": "ipython3",
   "version": "3.7.5"
  }
 },
 "nbformat": 4,
 "nbformat_minor": 2
}
